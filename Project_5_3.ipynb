{
 "cells": [
  {
   "cell_type": "markdown",
   "id": "80fea7a1-0ac6-45df-9fe1-460889e5df63",
   "metadata": {},
   "source": [
    "## Q1). What is multithreading in python? Why is it used? Name the module used to handle threads in python"
   ]
  },
  {
   "cell_type": "markdown",
   "id": "1f1e4552-ce1e-4d40-af23-709e6b91e309",
   "metadata": {},
   "source": [
    "#### Multithreading in Python is a popular technique that enables multiple tasks to be executed simultaneously i.e the ability of a processor to execute multiple threads simultaneously is known as multithreading.\n",
    "\n",
    "#### Python multithreading facilitates sharing data space and resources of multiple threads with the main thread. It allows efficient and easy communication between the threads.\n",
    "#### The goal of multithreading is to complete multiple tasks at the same time, which improves application rendering and performance.\n",
    "\n",
    "#### Programmers can run multiple subtasks of an application at the same time by using multithreading. It lets threads talk to the same processor and share resources like files, data, and memory and it makes it easier for the user to continue running a program even when a portion of it is blocked or too long.\n",
    "\n",
    "#### The module used to handle threads in python is the threading and thread module but the thread module is discontinuted in pyhton 3 and threading module has all the methods of thread module along with additional methods"
   ]
  },
  {
   "cell_type": "markdown",
   "id": "72d2b00f-a692-4eb4-883c-7b2c26af7d3a",
   "metadata": {},
   "source": [
    "## Q2) Why threading module used? Write the use of the following functions\n",
    "### a.)activeCount <br> b.)currentThread <br>c.)enumerate"
   ]
  },
  {
   "cell_type": "markdown",
   "id": "426447c6-7c31-4e23-9001-873c0816230e",
   "metadata": {},
   "source": [
    "#### Threading module is used for creating, controlling and managing threads in python.\n",
    "#### The threading module combines all the methods of the thread module and exposes few additional methods like:\n",
    "#### threading.activeCount(): It finds the total no. of active thread objects.\n",
    "#### threading.currentThread(): You can use it to determine the number of thread objects in the caller’s thread control.\n",
    "#### threading.enumerate(): It will give you a complete list of thread objects that are currently active.\n"
   ]
  },
  {
   "cell_type": "code",
   "execution_count": 1,
   "id": "65da2906-7c7e-42b1-88cb-8d1b037ad7d5",
   "metadata": {},
   "outputs": [
    {
     "name": "stdout",
     "output_type": "stream",
     "text": [
      "Thread 'Thread-5 (my_thread)' has started.\n",
      "Thread 'Thread-5 (my_thread)' is running.\n",
      "Thread 'Thread-5 (my_thread)' is running.\n",
      "Thread 'Thread-5 (my_thread)' is running.\n",
      "Thread 'Thread-5 (my_thread)' is running.\n",
      "Thread 'Thread-5 (my_thread)' is running.\n",
      "Thread 'Thread-5 (my_thread)' has finished.\n",
      "Thread 'Thread-6 (my_thread)' has started.\n",
      "Thread 'Thread-6 (my_thread)' is running.\n",
      "Thread 'Thread-6 (my_thread)' is running.\n",
      "Thread 'Thread-6 (my_thread)' is running.\n",
      "Thread 'Thread-6 (my_thread)' is running.\n",
      "Thread 'Thread-6 (my_thread)' is running.\n",
      "Thread 'Thread-6 (my_thread)' has finished.\n",
      "Thread 'Thread-7 (my_thread)' has started.\n",
      "Thread 'Thread-7 (my_thread)' is running.\n",
      "Thread 'Thread-7 (my_thread)' is running.\n",
      "Thread 'Thread-7 (my_thread)' is running.\n",
      "Thread 'Thread-7 (my_thread)' is running.\n",
      "Thread 'Thread-7 (my_thread)' is running.\n",
      "Thread 'Thread-7 (my_thread)' has finished.\n",
      "Number of active threads: 8\n",
      "Current thread name: MainThread\n",
      "Current thread ID: 139852097132352\n",
      "Active threads:\n",
      "Thread name: MainThread, ID: 139852097132352\n",
      "Thread name: IOPub, ID: 139852026603072\n",
      "Thread name: Heartbeat, ID: 139852018210368\n",
      "Thread name: Thread-3 (_watch_pipe_fd), ID: 139851785565760\n",
      "Thread name: Thread-4 (_watch_pipe_fd), ID: 139851777173056\n",
      "Thread name: Control, ID: 139851768780352\n",
      "Thread name: IPythonHistorySavingThread, ID: 139851760387648\n",
      "Thread name: Thread-2, ID: 139851751994944\n"
     ]
    },
    {
     "name": "stderr",
     "output_type": "stream",
     "text": [
      "/tmp/ipykernel_1696/1807087661.py:4: DeprecationWarning: currentThread() is deprecated, use current_thread() instead\n",
      "  print(f\"Thread '{threading.currentThread().getName()}' has started.\")\n",
      "/tmp/ipykernel_1696/1807087661.py:4: DeprecationWarning: getName() is deprecated, get the name attribute instead\n",
      "  print(f\"Thread '{threading.currentThread().getName()}' has started.\")\n",
      "/tmp/ipykernel_1696/1807087661.py:8: DeprecationWarning: currentThread() is deprecated, use current_thread() instead\n",
      "  print(f\"Thread '{threading.currentThread().getName()}' is running.\")\n",
      "/tmp/ipykernel_1696/1807087661.py:8: DeprecationWarning: getName() is deprecated, get the name attribute instead\n",
      "  print(f\"Thread '{threading.currentThread().getName()}' is running.\")\n",
      "/tmp/ipykernel_1696/1807087661.py:10: DeprecationWarning: currentThread() is deprecated, use current_thread() instead\n",
      "  print(f\"Thread '{threading.currentThread().getName()}' has finished.\")\n",
      "/tmp/ipykernel_1696/1807087661.py:10: DeprecationWarning: getName() is deprecated, get the name attribute instead\n",
      "  print(f\"Thread '{threading.currentThread().getName()}' has finished.\")\n",
      "/tmp/ipykernel_1696/1807087661.py:24: DeprecationWarning: activeCount() is deprecated, use active_count() instead\n",
      "  print(f\"Number of active threads: {threading.activeCount()}\")\n",
      "/tmp/ipykernel_1696/1807087661.py:27: DeprecationWarning: currentThread() is deprecated, use current_thread() instead\n",
      "  current_thread = threading.currentThread()\n",
      "/tmp/ipykernel_1696/1807087661.py:28: DeprecationWarning: getName() is deprecated, get the name attribute instead\n",
      "  print(f\"Current thread name: {current_thread.getName()}\")\n",
      "/tmp/ipykernel_1696/1807087661.py:34: DeprecationWarning: getName() is deprecated, get the name attribute instead\n",
      "  print(f\"Thread name: {thread.getName()}, ID: {thread.ident}\")\n"
     ]
    }
   ],
   "source": [
    "import threading\n",
    "\n",
    "def my_thread():\n",
    "    print(f\"Thread '{threading.currentThread().getName()}' has started.\")\n",
    "\n",
    "    # Simulating some work\n",
    "    for i in range(5):\n",
    "        print(f\"Thread '{threading.currentThread().getName()}' is running.\")\n",
    "\n",
    "    print(f\"Thread '{threading.currentThread().getName()}' has finished.\")\n",
    "\n",
    "# Create and start multiple threads\n",
    "threads = []\n",
    "for i in range(3):\n",
    "    thread = threading.Thread(target=my_thread)\n",
    "    thread.start()\n",
    "    threads.append(thread)\n",
    "\n",
    "# Wait for all threads to complete\n",
    "for thread in threads:\n",
    "    thread.join()\n",
    "\n",
    "# Print the number of active threads\n",
    "print(f\"Number of active threads: {threading.activeCount()}\")\n",
    "\n",
    "# Print information about the current thread\n",
    "current_thread = threading.currentThread()\n",
    "print(f\"Current thread name: {current_thread.getName()}\")\n",
    "print(f\"Current thread ID: {current_thread.ident}\")\n",
    "\n",
    "# Print information about all active threads\n",
    "print(\"Active threads:\")\n",
    "for thread in threading.enumerate():\n",
    "    print(f\"Thread name: {thread.getName()}, ID: {thread.ident}\")\n"
   ]
  },
  {
   "cell_type": "markdown",
   "id": "3ba58d8b-b0e3-4dd9-8687-4f7529e56f30",
   "metadata": {},
   "source": [
    "## Q3. Explain the following functions\n",
    "#### run() <br> start() <br> join() <br> isAlive()"
   ]
  },
  {
   "cell_type": "markdown",
   "id": "a46380c5-3eb4-42a8-af71-36b1267017c6",
   "metadata": {},
   "source": [
    "##### run() − The run() method is the entry point for a thread. <br> start() − The start() method starts a thread by calling the run method. <br> join([time]) − The join() waits for threads to terminate. <br> isAlive() − The isAlive() method checks whether a thread is still executing."
   ]
  },
  {
   "cell_type": "markdown",
   "id": "fb43a053-1fd7-472f-a875-1863989830b4",
   "metadata": {},
   "source": [
    "## Q4. Write a python program to create two threads. Thread one must print the list of squares and thread two must print the list of cubes"
   ]
  },
  {
   "cell_type": "code",
   "execution_count": 2,
   "id": "12f311bf-10a8-4ce3-951f-87f9b84e578e",
   "metadata": {},
   "outputs": [
    {
     "name": "stdout",
     "output_type": "stream",
     "text": [
      "Square of the 1 is 1 \n",
      "Square of the 2 is 4 \n",
      "Square of the 3 is 9 \n",
      "Square of the 4 is 16 \n",
      "Square of the 5 is 25 \n",
      "Cube of the 1 is 1 \n",
      "Cube of the 2 is 8 \n",
      "Cube of the 3 is 27 \n",
      "Cube of the 4 is 64 \n",
      "Cube of the 5 is 125 \n",
      "Program completed\n"
     ]
    }
   ],
   "source": [
    "import threading \n",
    "\n",
    "def print_square(num):\n",
    "    for i in num:\n",
    "        sq=i**2\n",
    "        print(f\"Square of the {i} is {sq} \")\n",
    "        \n",
    "def print_cube(num):\n",
    "    for i in num:\n",
    "        cube=i**3\n",
    "        print(f\"Cube of the {i} is {cube} \")\n",
    "        \n",
    "list_num = [1,2,3,4,5]\n",
    "\n",
    "thread1=threading.Thread(target=print_square,args=(list_num,))\n",
    "thread1.start()\n",
    "\n",
    "thread2=threading.Thread(target=print_cube,args=(list_num,))\n",
    "thread2.start()\n",
    "        \n",
    "    \n",
    "thread1.join()\n",
    "thread2.join()\n",
    "\n",
    "print(\"Program completed\")"
   ]
  },
  {
   "cell_type": "markdown",
   "id": "9025eca6-e5e3-4b60-947d-65cc94d6b11e",
   "metadata": {},
   "source": [
    "## Q5. State advantages and disadvantages of multithreading"
   ]
  },
  {
   "cell_type": "markdown",
   "id": "5100ebc9-801f-4907-9afc-bbfa7b390897",
   "metadata": {},
   "source": [
    "### Advantages :\n",
    "#### Python multithreading enables efficient utilization of the resources as the threads share the data space and memory. <br> Multithreading in Python allows the concurrent and parallel occurrence of various tasks.<br> It causes a reduction in time consumption or response time, thereby increasing the performance.\n",
    "\n",
    "### Disadvantages :\n",
    "#### Complexity and debugging difficulties. <br> Synchronization and coordination overhead.<br>Increased resource consumption. <br> Potential for thread-related issues (e.g., priority inversion, thread starvation, deadlocks).<br> Portability and platform dependence.<br> Difficulty in parallelizing certain tasks.<br> Increased code complexity and maintenance.\n",
    "\n",
    "\n",
    "\n"
   ]
  },
  {
   "cell_type": "markdown",
   "id": "67906e7d-4e30-4875-85d8-d21eb51c9060",
   "metadata": {},
   "source": [
    "## Q6. Explain Deadlock and Race Conditions"
   ]
  },
  {
   "cell_type": "markdown",
   "id": "9b5b7460-f4d5-427f-bd11-d655e64ff3a5",
   "metadata": {},
   "source": [
    "#### Deadlock:\n",
    "##### Deadlock is a situation where two or more threads are blocked indefinitely, each waiting for a resource that is held by another thread within the same set. In other words, it is a state where two or more threads are unable to proceed because each is waiting for a resource that can only be released by another waiting thread. Deadlocks can occur when the following four conditions hold simultaneously:\n",
    "##### Mutual Exclusion: At least one resource must be held in a non-sharable mode.\n",
    "##### Hold and Wait: A process must be holding at least one resource and waiting for another resource.\n",
    "##### No Preemption: Resources cannot be forcefully taken away from a thread; they must be released voluntarily.\n",
    "##### Circular Wait: A circular chain of two or more threads, where each thread is waiting for a resource held by the next thread in the chain.\n",
    "##### Deadlocks can be quite challenging to debug and resolve since they require careful analysis and coordination of resource allocation to avoid the circular wait condition.\n",
    "\n",
    "#### Race Condition:\n",
    "##### A race condition occurs when two or more threads access shared data or resources simultaneously, resulting in unpredictable behavior or incorrect results. It happens when the correctness of the computation depends on the relative timing or interleaving of events between threads. Race conditions can occur due to the lack of proper synchronization mechanisms and can lead to data inconsistency, integrity issues, or program crashes.\n",
    "##### For example, consider two threads that are concurrently incrementing a shared counter variable. If the threads do not synchronize their access to the counter using locks or other synchronization primitives, a race condition can occur. The order in which the threads execute their increments and the interleaving of their operations can lead to incorrect results, such as lost updates or overwriting each other's changes.\n",
    "##### To prevent race conditions, proper synchronization techniques like locks, mutexes, or atomic operations should be used to ensure exclusive access to shared resources and maintain data consistency.\n",
    "##### Both deadlocks and race conditions are common concurrency issues that can occur in multithreaded or parallel programs. Understanding and addressing these issues is crucial for developing robust and correct concurrent software."
   ]
  }
 ],
 "metadata": {
  "kernelspec": {
   "display_name": "Python 3 (ipykernel)",
   "language": "python",
   "name": "python3"
  },
  "language_info": {
   "codemirror_mode": {
    "name": "ipython",
    "version": 3
   },
   "file_extension": ".py",
   "mimetype": "text/x-python",
   "name": "python",
   "nbconvert_exporter": "python",
   "pygments_lexer": "ipython3",
   "version": "3.10.8"
  }
 },
 "nbformat": 4,
 "nbformat_minor": 5
}
